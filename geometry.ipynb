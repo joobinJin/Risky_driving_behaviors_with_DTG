{
 "cells": [
  {
   "cell_type": "code",
   "execution_count": null,
   "metadata": {},
   "outputs": [],
   "source": [
    "import geopandas as gpd\n",
    "from shapely.geometry import Point\n",
    "\n",
    "# 법정동 경계 데이터 로드\n",
    "gdf = gpd.read_file('NGII_CDM/Z_NGII_N3A_G0100000.shp')\n",
    "\n",
    "# GPS 좌표를 Point 객체로 변환\n",
    "DTG_01['geometry'] = DTG_01.apply(lambda row: Point(row['GPS_X'], row['GPS_Y']), axis=1)\n",
    "\n",
    "# GeoDataFrame 생성\n",
    "geo_dfg = gpd.GeoDataFrame(DTG_01, geometry='geometry')\n",
    "\n",
    "# 법정동 데이터와 매칭하여 법정동 정보 추출\n",
    "for index, point in geo_dfg.iterrows():\n",
    "    for _, poly in gdf.iterrows():\n",
    "        if point.geometry.within(poly.geometry):\n",
    "            # 여기서 poly['NAME'], poly['BJCD'] 등 법정동 정보를 추출할 수 있습니다.\n",
    "            print(f\"GPS {point.geometry} is in {poly['NAME']}, {poly['BJCD']}\")\n",
    "            break\n",
    "\n",
    "# 50시간 걸림"
   ]
  },
  {
   "cell_type": "code",
   "execution_count": 1,
   "metadata": {},
   "outputs": [],
   "source": [
    "# import pandas as pd\n",
    "# import pickle\n",
    "\n",
    "# geo_dfg.to_pickle('/home/user/jin_jb/DTG/DATA/geo_dfg_01.pkl')"
   ]
  },
  {
   "cell_type": "code",
   "execution_count": 5,
   "metadata": {},
   "outputs": [],
   "source": [
    "import pandas as pd\n",
    "import pickle\n",
    "\n",
    "geo_dfg_01 = pd.read_pickle('/home/user/jin_jb/DTG/DATA/geo_dfg_01.pkl')\n"
   ]
  },
  {
   "cell_type": "code",
   "execution_count": 6,
   "metadata": {},
   "outputs": [
    {
     "data": {
      "text/plain": [
       "0           POINT (127.39703 36.34135)\n",
       "1           POINT (127.37856 36.38239)\n",
       "2           POINT (127.37865 36.37831)\n",
       "3           POINT (127.37880 36.37780)\n",
       "4           POINT (127.37953 36.37382)\n",
       "                       ...            \n",
       "16754543    POINT (127.34934 36.31461)\n",
       "16754544    POINT (127.34929 36.31475)\n",
       "16754545    POINT (127.34894 36.31557)\n",
       "16754546    POINT (127.34883 36.31549)\n",
       "16754547    POINT (127.31683 36.29257)\n",
       "Name: geometry, Length: 16754548, dtype: geometry"
      ]
     },
     "execution_count": 6,
     "metadata": {},
     "output_type": "execute_result"
    }
   ],
   "source": [
    "geo_dfg_01['geometry']"
   ]
  },
  {
   "cell_type": "code",
   "execution_count": null,
   "metadata": {},
   "outputs": [],
   "source": []
  }
 ],
 "metadata": {
  "kernelspec": {
   "display_name": "jin_jb_dtg",
   "language": "python",
   "name": "python3"
  },
  "language_info": {
   "codemirror_mode": {
    "name": "ipython",
    "version": 3
   },
   "file_extension": ".py",
   "mimetype": "text/x-python",
   "name": "python",
   "nbconvert_exporter": "python",
   "pygments_lexer": "ipython3",
   "version": "3.8.18"
  }
 },
 "nbformat": 4,
 "nbformat_minor": 2
}
